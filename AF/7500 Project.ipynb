{
 "cells": [
  {
   "cell_type": "markdown",
   "id": "d096c99a-6578-4e81-b014-f5c71cee8f68",
   "metadata": {},
   "source": [
    "# Import Libraries"
   ]
  },
  {
   "cell_type": "code",
   "execution_count": 52,
   "id": "385d21ec-5a25-49b0-a40f-42912af2395c",
   "metadata": {},
   "outputs": [],
   "source": [
    "import pandas as pd\n",
    "import numpy as np\n",
    "# For text cleaning\n",
    "import re\n",
    "import nltk\n",
    "from nltk.corpus import stopwords #for stopword removal\n",
    "from nltk.stem import WordNetLemmatizer #for lemmatization\n",
    "from nltk.corpus import wordnet\n",
    "# For data splitting\n",
    "from sklearn.model_selection import train_test_split\n",
    "# For tokenizing and padding\n",
    "import tensorflow as tf\n",
    "from tensorflow.keras.preprocessing.text import Tokenizer\n",
    "from tensorflow.keras.preprocessing.sequence import pad_sequences\n",
    "# For simple dense model building\n",
    "from tensorflow.keras.models import Sequential\n",
    "from tensorflow.keras.layers import Embedding, Flatten, Dense, Dropout\n",
    "from scikeras.wrappers import KerasClassifier\n",
    "# for recurrent neural network model building\n",
    "from tensorflow.keras.models import Sequential\n",
    "from tensorflow.keras.layers import Embedding, SimpleRNN, Dense\n",
    "# For model evaluation\n",
    "from sklearn.metrics import classification_report\n",
    "# For plotting\n",
    "import matplotlib.pyplot as plt;\n",
    "# for grid search\n",
    "import itertools"
   ]
  },
  {
   "cell_type": "markdown",
   "id": "48ebd543-6c79-46e2-a0a2-1c2176a44c45",
   "metadata": {},
   "source": [
    "# Dataset Preparation\n",
    "\n",
    "We are only interested in the following columns:\n",
    "- choose_one: target variable, whether tweet is about an actual disaster or not\n",
    "- text: the tweet\n",
    "- keyword: keyword from the tweet, potential train variable\n",
    "- location: where tweet was sent form, potential train variable"
   ]
  },
  {
   "cell_type": "code",
   "execution_count": 5,
   "id": "72a4a7d5-0697-454b-9cb3-09dc9fc4aa62",
   "metadata": {},
   "outputs": [],
   "source": [
    "# Read in data\n",
    "df = pd.read_csv(\"socialmedia-disaster-tweets-DFE.csv\")"
   ]
  },
  {
   "cell_type": "code",
   "execution_count": 7,
   "id": "177af3b3-c1f6-4cb9-b2f9-776459f03368",
   "metadata": {},
   "outputs": [
    {
     "name": "stderr",
     "output_type": "stream",
     "text": [
      "/var/folders/0_/l4s85yyx0nq0sr3jrhhw7n740000gn/T/ipykernel_13638/1314727611.py:14: FutureWarning: Downcasting behavior in `replace` is deprecated and will be removed in a future version. To retain the old behavior, explicitly call `result.infer_objects(copy=False)`. To opt-in to the future behavior, set `pd.set_option('future.no_silent_downcasting', True)`\n",
      "  data['disaster'] = data['disaster'].replace({\"Relevant\": 1, \"Not Relevant\": 0})\n"
     ]
    },
    {
     "data": {
      "text/html": [
       "<div>\n",
       "<style scoped>\n",
       "    .dataframe tbody tr th:only-of-type {\n",
       "        vertical-align: middle;\n",
       "    }\n",
       "\n",
       "    .dataframe tbody tr th {\n",
       "        vertical-align: top;\n",
       "    }\n",
       "\n",
       "    .dataframe thead th {\n",
       "        text-align: right;\n",
       "    }\n",
       "</style>\n",
       "<table border=\"1\" class=\"dataframe\">\n",
       "  <thead>\n",
       "    <tr style=\"text-align: right;\">\n",
       "      <th></th>\n",
       "      <th>disaster</th>\n",
       "      <th>tweet</th>\n",
       "      <th>keyword</th>\n",
       "      <th>location</th>\n",
       "    </tr>\n",
       "  </thead>\n",
       "  <tbody>\n",
       "    <tr>\n",
       "      <th>0</th>\n",
       "      <td>1</td>\n",
       "      <td>Just happened a terrible car crash</td>\n",
       "      <td>NaN</td>\n",
       "      <td>NaN</td>\n",
       "    </tr>\n",
       "    <tr>\n",
       "      <th>1</th>\n",
       "      <td>1</td>\n",
       "      <td>Our Deeds are the Reason of this #earthquake M...</td>\n",
       "      <td>NaN</td>\n",
       "      <td>NaN</td>\n",
       "    </tr>\n",
       "    <tr>\n",
       "      <th>2</th>\n",
       "      <td>1</td>\n",
       "      <td>Heard about #earthquake is different cities, s...</td>\n",
       "      <td>NaN</td>\n",
       "      <td>NaN</td>\n",
       "    </tr>\n",
       "    <tr>\n",
       "      <th>3</th>\n",
       "      <td>1</td>\n",
       "      <td>there is a forest fire at spot pond, geese are...</td>\n",
       "      <td>NaN</td>\n",
       "      <td>NaN</td>\n",
       "    </tr>\n",
       "    <tr>\n",
       "      <th>4</th>\n",
       "      <td>1</td>\n",
       "      <td>Forest fire near La Ronge Sask. Canada</td>\n",
       "      <td>NaN</td>\n",
       "      <td>NaN</td>\n",
       "    </tr>\n",
       "  </tbody>\n",
       "</table>\n",
       "</div>"
      ],
      "text/plain": [
       "   disaster                                              tweet keyword  \\\n",
       "0         1                 Just happened a terrible car crash     NaN   \n",
       "1         1  Our Deeds are the Reason of this #earthquake M...     NaN   \n",
       "2         1  Heard about #earthquake is different cities, s...     NaN   \n",
       "3         1  there is a forest fire at spot pond, geese are...     NaN   \n",
       "4         1             Forest fire near La Ronge Sask. Canada     NaN   \n",
       "\n",
       "  location  \n",
       "0      NaN  \n",
       "1      NaN  \n",
       "2      NaN  \n",
       "3      NaN  \n",
       "4      NaN  "
      ]
     },
     "execution_count": 7,
     "metadata": {},
     "output_type": "execute_result"
    }
   ],
   "source": [
    "# Filter for relevant columns\n",
    "data = df[['choose_one', 'text', 'keyword', 'location']]\n",
    "\n",
    "# Change column names\n",
    "data.columns = ['disaster', 'tweet', 'keyword', 'location']\n",
    "\n",
    "# Remove 'Can't Decide' rows\n",
    "data = data[data['disaster'] != \"Can't Decide\"]\n",
    "\n",
    "# Drop NA rows\n",
    "data = data.dropna(subset=['disaster', 'tweet'])\n",
    "\n",
    "# One-Hot encode 'disaster' column\n",
    "data['disaster'] = data['disaster'].replace({\"Relevant\": 1, \"Not Relevant\": 0})\n",
    "\n",
    "data.head()"
   ]
  },
  {
   "cell_type": "markdown",
   "id": "5e84c400-7fb6-42fd-9c57-887965ab3de1",
   "metadata": {},
   "source": [
    "# Data Preprocessing"
   ]
  },
  {
   "cell_type": "markdown",
   "id": "c6702694-5525-48d9-a1f4-2c017343b3dc",
   "metadata": {},
   "source": [
    "## Data Cleaning"
   ]
  },
  {
   "cell_type": "code",
   "execution_count": 12,
   "id": "803fe915-1fa7-44c8-ae17-0d8af227ba0c",
   "metadata": {},
   "outputs": [
    {
     "name": "stderr",
     "output_type": "stream",
     "text": [
      "[nltk_data] Downloading package stopwords to\n",
      "[nltk_data]     /Users/andrewfox/nltk_data...\n",
      "[nltk_data]   Package stopwords is already up-to-date!\n",
      "[nltk_data] Downloading package wordnet to\n",
      "[nltk_data]     /Users/andrewfox/nltk_data...\n",
      "[nltk_data]   Package wordnet is already up-to-date!\n"
     ]
    }
   ],
   "source": [
    "# Get English stop words\n",
    "nltk.download('stopwords')\n",
    "stop_words = set(stopwords.words('english'))\n",
    "\n",
    "# Create lemmatizer\n",
    "nltk.download('wordnet')\n",
    "lemmatizer = WordNetLemmatizer()"
   ]
  },
  {
   "cell_type": "code",
   "execution_count": 14,
   "id": "701bba7d-aac4-4edf-9151-c2cb269c73fd",
   "metadata": {},
   "outputs": [],
   "source": [
    "def clean(text, stopwords=False, lemmatize=False):\n",
    "    text = re.sub(r'https?://\\S+|www\\.\\S+', '', text).strip() #remove links like https://\n",
    "    text = text.lower()                                       #lowercase all characters\n",
    "    text = text.strip()                                       #string white space\n",
    "    text = re.sub(r'[^a-z\\s]', ' ', text)                     #replace special characters with a whitespace\n",
    "    text = re.sub(r'\\s+', ' ', text).strip()                  #remove double white spaces\n",
    "\n",
    "    # remove stop words if specified\n",
    "    if stopwords == True:\n",
    "        text = ' '.join(word for word in text.split() if word.lower() not in stop_words)\n",
    "\n",
    "    # lemmatize if specified\n",
    "    if lemmatize == True:\n",
    "        text = ' '.join(lemmatizer.lemmatize(word) for word in text.split()) #lemmatize nouns if specified\n",
    "        text = ' '.join(lemmatizer.lemmatize(word, pos=wordnet.VERB) for word in text.split()) #lemmatize verbs if specified\n",
    "        \n",
    "    return text\n",
    "\n",
    "# Test clean() function\n",
    "def clean_test(num, stopwords=False, lemmatize=False):\n",
    "    sentence = data['tweet'][num]\n",
    "    print(\"Original Sentence:\")\n",
    "    print(sentence)\n",
    "    print()\n",
    "    print(\"Cleaned Sentence:\")\n",
    "    print(clean(sentence, stopwords, lemmatize))"
   ]
  },
  {
   "cell_type": "code",
   "execution_count": 16,
   "id": "9082d8db-69e3-42a6-9fc8-c75dc045e9f9",
   "metadata": {},
   "outputs": [
    {
     "name": "stdout",
     "output_type": "stream",
     "text": [
      "Original Sentence:\n",
      "http://t.co/GKYe6gjTk5 Had a #personalinjury accident this summer? Read our advice &amp; see how a #solicitor can help #OtleyHour\n",
      "\n",
      "Cleaned Sentence:\n",
      "had a personalinjury accident this summer read our advice amp see how a solicitor can help otleyhour\n"
     ]
    }
   ],
   "source": [
    "clean_test(100, False, False)"
   ]
  },
  {
   "cell_type": "markdown",
   "id": "c6ad40b2-b2e5-4831-97b5-c4d48117717b",
   "metadata": {},
   "source": [
    "### Splitting data"
   ]
  },
  {
   "cell_type": "code",
   "execution_count": 22,
   "id": "ab318b6e-602f-49f9-bbea-ee282304746f",
   "metadata": {},
   "outputs": [],
   "source": [
    "def features_target():\n",
    "    X = data[\"tweet\"].astype(str) #define features\n",
    "    y = data[\"disaster\"]          #define target\n",
    "    return X, y\n",
    "\n",
    "X, y = features_target()\n",
    "\n",
    "# Clean data\n",
    "X = X.apply(clean, stopwords=False, lemmatize=False)\n",
    "\n",
    "# Split data\n",
    "X_train, X_test, y_train, y_test = train_test_split(X, y, test_size=0.3, random_state=42)"
   ]
  },
  {
   "cell_type": "markdown",
   "id": "9fe8f0ba-fed7-4e11-a661-e1faee7df026",
   "metadata": {},
   "source": [
    "### Tokenizing data\n",
    "\n",
    "Because we have to pad tweets so that they are all of the same size for the neural network, it is important to find a max length to which they will be filled to, as we don't want to pad shorter sentences with a bunch of 0s. Looking at the length of tweets in the dataset can help decide this value. We look at the 95th percentile of tweet lengths."
   ]
  },
  {
   "cell_type": "code",
   "execution_count": 25,
   "id": "82b9e057-0c11-474d-8640-a21fb21648df",
   "metadata": {},
   "outputs": [
    {
     "data": {
      "image/png": "[encoded data removed]",
      "text/plain": [
       "<Figure size 600x200 with 1 Axes>"
      ]
     },
     "metadata": {},
     "output_type": "display_data"
    }
   ],
   "source": [
    "# Find length of tweets\n",
    "tweet_lengths = X.astype(str).apply(lambda x: len(x.split()))\n",
    "percentile_95 = int(np.percentile(tweet_lengths, 95))  # 95th percentile of tweet lengths\n",
    "\n",
    "# Plot histogram\n",
    "plt.figure(figsize=(6, 2))\n",
    "plt.hist(tweet_lengths, bins=30, color=\"skyblue\", edgecolor=\"black\")\n",
    "plt.axvline(np.percentile(tweet_lengths, 95), color='red', linestyle='dashed', label=\"95th percentile\")\n",
    "plt.axvline(np.percentile(tweet_lengths, 99), color='green', linestyle='dashed', label=\"99th percentile\")\n",
    "plt.xlabel(\"Tweet Length (Number of Words)\")\n",
    "plt.ylabel(\"Frequency\")\n",
    "plt.title(\"Tweet Length Distribution\")\n",
    "plt.suptitle(f\"Optimal max length: {percentile_95}\", fontsize=10, color=\"gray\", y=0.5, x=1.1)\n",
    "plt.legend()\n",
    "plt.show()"
   ]
  },
  {
   "cell_type": "markdown",
   "id": "784c7a39-7685-48ab-acd8-e35d463582f7",
   "metadata": {},
   "source": [
    "The maximum tweet length is not significantly longer than 25, so a max length can be set at 30."
   ]
  },
  {
   "cell_type": "code",
   "execution_count": 28,
   "id": "752695e9-cc1e-4e39-a5b5-67e122b4d41a",
   "metadata": {},
   "outputs": [],
   "source": [
    "MAX_LEN = 30\n",
    "def tokenize(X_train, x_test, MAX_LEN):\n",
    "    tokenizer = Tokenizer(num_words=10000, oov_token=\"<OOV>\")\n",
    "    tokenizer.fit_on_texts(X_train)  # Fit only on training data\n",
    "\n",
    "    # Convert text to numerical sequences\n",
    "    X_train_seq = tokenizer.texts_to_sequences(X_train)\n",
    "    X_test_seq = tokenizer.texts_to_sequences(X_test)\n",
    "    \n",
    "    # Pad sequences to of same shape, using max length determined before\n",
    "    X_train_padded = pad_sequences(X_train_seq, maxlen=MAX_LEN, padding='post', truncating='post')\n",
    "    X_test_padded = pad_sequences(X_test_seq, maxlen=MAX_LEN, padding='post', truncating='post')\n",
    "\n",
    "    return X_train_padded, X_test_padded"
   ]
  },
  {
   "cell_type": "markdown",
   "id": "9a9748c4-5274-4d91-b609-5ce744f9a35e",
   "metadata": {},
   "source": [
    "# Models"
   ]
  },
  {
   "cell_type": "markdown",
   "id": "1d2231cd-cf26-4e1d-8e92-336e0b30120a",
   "metadata": {},
   "source": [
    "## Simple Dense Neural Network"
   ]
  },
  {
   "cell_type": "code",
   "execution_count": 32,
   "id": "9e04b7d9-5e38-42d4-9e79-14d07e333c90",
   "metadata": {},
   "outputs": [],
   "source": [
    "def create_model(X_train, y_train, X_test, y_test, input_dim, output_dim, layers, \n",
    "                activation='relu', optimizer='adam', epochs=10, batch_size=32):\n",
    "    \n",
    "    model = Sequential()\n",
    "    model.add(Embedding(input_dim=input_dim, output_dim=output_dim))  # Embedding layer\n",
    "    model.add(Flatten())\n",
    "\n",
    "    # Add layers dynamically\n",
    "    for units in layers:\n",
    "        model.add(Dense(units, activation=activation))\n",
    "\n",
    "    # Output layer for binary classification\n",
    "    model.add(Dense(1, activation='sigmoid'))\n",
    "\n",
    "    # Compile the model\n",
    "    model.compile(loss=\"binary_crossentropy\", optimizer=optimizer, metrics=['accuracy'])\n",
    "\n",
    "    # Train the model\n",
    "    model.fit(X_train, y_train, validation_data=(X_test, y_test), epochs=epochs, batch_size=batch_size, verbose=0)\n",
    "\n",
    "    return model"
   ]
  },
  {
   "cell_type": "code",
   "execution_count": 34,
   "id": "f9c05794-0af1-45a6-9c91-5ec60a34a09a",
   "metadata": {},
   "outputs": [],
   "source": [
    "def evaluate_model(model):\n",
    "    test_loss, test_acc = model.evaluate(X_test, y_test)\n",
    "    y_pred = (model.predict(X_test) > 0.5).astype(\"int32\") # Convert probabilities to binary labels\n",
    "    print(classification_report(y_test, y_pred))"
   ]
  },
  {
   "cell_type": "markdown",
   "id": "79b4d759-5149-4a9d-a177-6d313ac49f65",
   "metadata": {},
   "source": [
    "### Determining the best cleaning parameters\n",
    "\n",
    "I will build and evaluate a simple dense neural network model trying different text cleaning (that is, with and without stopword removal, and with and without lemmatization) to see which permutation works best."
   ]
  },
  {
   "cell_type": "code",
   "execution_count": 49,
   "id": "0556bb0b-b4f8-4ec9-b2e0-9813fd26395b",
   "metadata": {},
   "outputs": [
    {
     "name": "stdout",
     "output_type": "stream",
     "text": [
      "-----------------------------------------------------------------------\n",
      "NO stopword removal, NO lemmatization\n",
      "-----------------------------------------------------------------------\n",
      "\u001b[1m102/102\u001b[0m \u001b[32m━━━━━━━━━━━━━━━━━━━━\u001b[0m\u001b[37m\u001b[0m \u001b[1m0s\u001b[0m 4ms/step - accuracy: 0.7479 - loss: 0.7587\n",
      "\u001b[1m102/102\u001b[0m \u001b[32m━━━━━━━━━━━━━━━━━━━━\u001b[0m\u001b[37m\u001b[0m \u001b[1m0s\u001b[0m 3ms/step\n",
      "              precision    recall  f1-score   support\n",
      "\n",
      "           0       0.78      0.80      0.79      1830\n",
      "           1       0.74      0.72      0.73      1428\n",
      "\n",
      "    accuracy                           0.77      3258\n",
      "   macro avg       0.76      0.76      0.76      3258\n",
      "weighted avg       0.77      0.77      0.77      3258\n",
      "\n",
      "-----------------------------------------------------------------------\n",
      "stopword removal, NO lemmatization\n",
      "-----------------------------------------------------------------------\n",
      "\u001b[1m102/102\u001b[0m \u001b[32m━━━━━━━━━━━━━━━━━━━━\u001b[0m\u001b[37m\u001b[0m \u001b[1m0s\u001b[0m 2ms/step - accuracy: 0.7556 - loss: 0.7674\n",
      "\u001b[1m102/102\u001b[0m \u001b[32m━━━━━━━━━━━━━━━━━━━━\u001b[0m\u001b[37m\u001b[0m \u001b[1m0s\u001b[0m 1ms/step\n",
      "              precision    recall  f1-score   support\n",
      "\n",
      "           0       0.77      0.86      0.81      1830\n",
      "           1       0.78      0.67      0.72      1428\n",
      "\n",
      "    accuracy                           0.77      3258\n",
      "   macro avg       0.78      0.76      0.77      3258\n",
      "weighted avg       0.77      0.77      0.77      3258\n",
      "\n",
      "-----------------------------------------------------------------------\n",
      "NO stopword removal, lemmatization\n",
      "-----------------------------------------------------------------------\n",
      "\u001b[1m102/102\u001b[0m \u001b[32m━━━━━━━━━━━━━━━━━━━━\u001b[0m\u001b[37m\u001b[0m \u001b[1m0s\u001b[0m 2ms/step - accuracy: 0.7639 - loss: 0.7478\n",
      "\u001b[1m102/102\u001b[0m \u001b[32m━━━━━━━━━━━━━━━━━━━━\u001b[0m\u001b[37m\u001b[0m \u001b[1m0s\u001b[0m 1ms/step\n",
      "              precision    recall  f1-score   support\n",
      "\n",
      "           0       0.77      0.85      0.81      1830\n",
      "           1       0.78      0.68      0.73      1428\n",
      "\n",
      "    accuracy                           0.78      3258\n",
      "   macro avg       0.78      0.76      0.77      3258\n",
      "weighted avg       0.78      0.78      0.77      3258\n",
      "\n",
      "-----------------------------------------------------------------------\n",
      "stopword removal, lemmatization\n",
      "-----------------------------------------------------------------------\n",
      "\u001b[1m102/102\u001b[0m \u001b[32m━━━━━━━━━━━━━━━━━━━━\u001b[0m\u001b[37m\u001b[0m \u001b[1m0s\u001b[0m 2ms/step - accuracy: 0.7579 - loss: 0.7714\n",
      "\u001b[1m102/102\u001b[0m \u001b[32m━━━━━━━━━━━━━━━━━━━━\u001b[0m\u001b[37m\u001b[0m \u001b[1m0s\u001b[0m 1ms/step\n",
      "              precision    recall  f1-score   support\n",
      "\n",
      "           0       0.80      0.78      0.79      1830\n",
      "           1       0.72      0.75      0.74      1428\n",
      "\n",
      "    accuracy                           0.77      3258\n",
      "   macro avg       0.76      0.76      0.76      3258\n",
      "weighted avg       0.77      0.77      0.77      3258\n",
      "\n"
     ]
    }
   ],
   "source": [
    "print(\"-----------------------------------------------------------------------\")\n",
    "print(\"NO stopword removal, NO lemmatization\")\n",
    "print(\"-----------------------------------------------------------------------\")\n",
    "X, y = features_target()\n",
    "X = X.apply(clean, stopwords=False, lemmatize=False)                                      #clean data\n",
    "X_train, X_test, y_train, y_test = train_test_split(X, y, test_size=0.3, random_state=42) #split data\n",
    "X_train, X_test = tokenize(X_train, X_test, MAX_LEN)                                      #tokenize\n",
    "model = create_model(X_train, y_train, X_test, y_test, 10000, 16, layers=[32])\n",
    "evaluate_model(model)\n",
    "\n",
    "print(\"-----------------------------------------------------------------------\")\n",
    "print(\"stopword removal, NO lemmatization\")\n",
    "print(\"-----------------------------------------------------------------------\")\n",
    "X, y = features_target()\n",
    "X = X.apply(clean, stopwords=True, lemmatize=False)                                       #clean data\n",
    "X_train, X_test, y_train, y_test = train_test_split(X, y, test_size=0.3, random_state=42) #split data\n",
    "X_train, X_test = tokenize(X_train, X_test, MAX_LEN)                                      #tokenize\n",
    "model = create_model(X_train, y_train, X_test, y_test, 10000, 16, layers=[32])\n",
    "evaluate_model(model)\n",
    "\n",
    "\n",
    "print(\"-----------------------------------------------------------------------\")\n",
    "print(\"NO stopword removal, lemmatization\")\n",
    "print(\"-----------------------------------------------------------------------\")\n",
    "X, y = features_target()\n",
    "X = X.apply(clean, stopwords=False, lemmatize=True)                                       #clean data\n",
    "X_train, X_test, y_train, y_test = train_test_split(X, y, test_size=0.3, random_state=42) #split data\n",
    "X_train, X_test = tokenize(X_train, X_test, MAX_LEN)                                      #tokenize\n",
    "model = create_model(X_train, y_train, X_test, y_test, 10000, 16, layers=[32])\n",
    "evaluate_model(model)\n",
    "\n",
    "\n",
    "print(\"-----------------------------------------------------------------------\")\n",
    "print(\"stopword removal, lemmatization\")\n",
    "print(\"-----------------------------------------------------------------------\")\n",
    "X, y = features_target()\n",
    "X = X.apply(clean, stopwords=True, lemmatize=True)                                        #clean data\n",
    "X_train, X_test, y_train, y_test = train_test_split(X, y, test_size=0.3, random_state=42) #split data\n",
    "X_train, X_test = tokenize(X_train, X_test, MAX_LEN)                                      #tokenize\n",
    "model = create_model(X_train, y_train, X_test, y_test, 10000, 16, layers=[32])\n",
    "evaluate_model(model)"
   ]
  },
  {
   "cell_type": "markdown",
   "id": "347637a5-01d7-4585-8abb-ad57b3bb350a",
   "metadata": {},
   "source": [
    "It seems there is no significant effect of stopword removal and/or lemmatization on model performance. Therefore, no stopword removal nor lemmatization will be done in building models. "
   ]
  },
  {
   "cell_type": "markdown",
   "id": "ea814343-3d9e-400b-8e5f-71244d2ab718",
   "metadata": {},
   "source": [
    "## Hyperparameter Tuning Models\n",
    "\n",
    "Here I do a simple grid search to perform hyperparameter tuning. Previous attempts at this revealed 'sgd' optimizer performs significantly worse than 'adam', and so the latter will always be used."
   ]
  },
  {
   "cell_type": "code",
   "execution_count": 55,
   "id": "09a6ea87-2619-48de-a397-da5caa361c65",
   "metadata": {},
   "outputs": [],
   "source": [
    "def grid_search(X_train, y_train, X_test, y_test, param_grid):\n",
    "    # Generate all possible parameter combinations\n",
    "    keys, values = zip(*param_grid.items())\n",
    "    param_combinations = list(itertools.product(*values))\n",
    "\n",
    "    for params in param_combinations:\n",
    "        param_dict = dict(zip(keys, params))\n",
    "\n",
    "        print(f\"\\nTraining with parameters: {param_dict}\")\n",
    "\n",
    "        model = create_model(\n",
    "            X_train, y_train, X_test, y_test,\n",
    "            input_dim=10000, \n",
    "            output_dim=16,\n",
    "            layers=[param_dict['layers']],\n",
    "            activation=param_dict['activation'],\n",
    "            optimizer='adam',\n",
    "            epochs=param_dict['epochs'],\n",
    "            batch_size=32\n",
    "        )\n",
    "\n",
    "        evaluate_model(model)"
   ]
  },
  {
   "cell_type": "code",
   "execution_count": 57,
   "id": "b68e1d83-55eb-4b82-a4c1-c86019f33d74",
   "metadata": {},
   "outputs": [],
   "source": [
    "X, y = features_target()\n",
    "X = X.apply(clean, stopwords=True, lemmatize=True)                                        #clean data\n",
    "X_train, X_test, y_train, y_test = train_test_split(X, y, test_size=0.3, random_state=42) #split data\n",
    "X_train, X_test = tokenize(X_train, X_test, MAX_LEN)                                      #tokenize"
   ]
  },
  {
   "cell_type": "code",
   "execution_count": 59,
   "id": "42982570-ece0-44e8-9748-78bee002d0cc",
   "metadata": {},
   "outputs": [
    {
     "name": "stdout",
     "output_type": "stream",
     "text": [
      "\n",
      "Training with parameters: {'activation': 'relu', 'layers': 16, 'epochs': 10}\n",
      "\u001b[1m102/102\u001b[0m \u001b[32m━━━━━━━━━━━━━━━━━━━━\u001b[0m\u001b[37m\u001b[0m \u001b[1m0s\u001b[0m 2ms/step - accuracy: 0.7626 - loss: 0.7622\n",
      "\u001b[1m102/102\u001b[0m \u001b[32m━━━━━━━━━━━━━━━━━━━━\u001b[0m\u001b[37m\u001b[0m \u001b[1m0s\u001b[0m 2ms/step\n",
      "              precision    recall  f1-score   support\n",
      "\n",
      "           0       0.78      0.83      0.81      1830\n",
      "           1       0.76      0.71      0.73      1428\n",
      "\n",
      "    accuracy                           0.78      3258\n",
      "   macro avg       0.77      0.77      0.77      3258\n",
      "weighted avg       0.77      0.78      0.77      3258\n",
      "\n",
      "\n",
      "Training with parameters: {'activation': 'relu', 'layers': 16, 'epochs': 20}\n",
      "\u001b[1m102/102\u001b[0m \u001b[32m━━━━━━━━━━━━━━━━━━━━\u001b[0m\u001b[37m\u001b[0m \u001b[1m0s\u001b[0m 3ms/step - accuracy: 0.7435 - loss: 0.8244\n",
      "\u001b[1m102/102\u001b[0m \u001b[32m━━━━━━━━━━━━━━━━━━━━\u001b[0m\u001b[37m\u001b[0m \u001b[1m0s\u001b[0m 2ms/step\n",
      "              precision    recall  f1-score   support\n",
      "\n",
      "           0       0.78      0.80      0.79      1830\n",
      "           1       0.73      0.72      0.72      1428\n",
      "\n",
      "    accuracy                           0.76      3258\n",
      "   macro avg       0.76      0.76      0.76      3258\n",
      "weighted avg       0.76      0.76      0.76      3258\n",
      "\n",
      "\n",
      "Training with parameters: {'activation': 'relu', 'layers': 32, 'epochs': 10}\n",
      "\u001b[1m102/102\u001b[0m \u001b[32m━━━━━━━━━━━━━━━━━━━━\u001b[0m\u001b[37m\u001b[0m \u001b[1m0s\u001b[0m 2ms/step - accuracy: 0.7496 - loss: 0.7587\n",
      "\u001b[1m102/102\u001b[0m \u001b[32m━━━━━━━━━━━━━━━━━━━━\u001b[0m\u001b[37m\u001b[0m \u001b[1m0s\u001b[0m 1ms/step\n",
      "              precision    recall  f1-score   support\n",
      "\n",
      "           0       0.79      0.78      0.79      1830\n",
      "           1       0.72      0.74      0.73      1428\n",
      "\n",
      "    accuracy                           0.76      3258\n",
      "   macro avg       0.76      0.76      0.76      3258\n",
      "weighted avg       0.76      0.76      0.76      3258\n",
      "\n",
      "\n",
      "Training with parameters: {'activation': 'relu', 'layers': 32, 'epochs': 20}\n",
      "\u001b[1m102/102\u001b[0m \u001b[32m━━━━━━━━━━━━━━━━━━━━\u001b[0m\u001b[37m\u001b[0m \u001b[1m0s\u001b[0m 2ms/step - accuracy: 0.7471 - loss: 0.8308\n",
      "\u001b[1m102/102\u001b[0m \u001b[32m━━━━━━━━━━━━━━━━━━━━\u001b[0m\u001b[37m\u001b[0m \u001b[1m0s\u001b[0m 2ms/step\n",
      "              precision    recall  f1-score   support\n",
      "\n",
      "           0       0.77      0.81      0.79      1830\n",
      "           1       0.74      0.69      0.72      1428\n",
      "\n",
      "    accuracy                           0.76      3258\n",
      "   macro avg       0.76      0.75      0.76      3258\n",
      "weighted avg       0.76      0.76      0.76      3258\n",
      "\n",
      "\n",
      "Training with parameters: {'activation': 'relu', 'layers': 64, 'epochs': 10}\n",
      "\u001b[1m102/102\u001b[0m \u001b[32m━━━━━━━━━━━━━━━━━━━━\u001b[0m\u001b[37m\u001b[0m \u001b[1m0s\u001b[0m 3ms/step - accuracy: 0.7596 - loss: 0.7717\n",
      "\u001b[1m102/102\u001b[0m \u001b[32m━━━━━━━━━━━━━━━━━━━━\u001b[0m\u001b[37m\u001b[0m \u001b[1m0s\u001b[0m 3ms/step\n",
      "              precision    recall  f1-score   support\n",
      "\n",
      "           0       0.79      0.81      0.80      1830\n",
      "           1       0.74      0.72      0.73      1428\n",
      "\n",
      "    accuracy                           0.77      3258\n",
      "   macro avg       0.77      0.76      0.77      3258\n",
      "weighted avg       0.77      0.77      0.77      3258\n",
      "\n",
      "\n",
      "Training with parameters: {'activation': 'relu', 'layers': 64, 'epochs': 20}\n",
      "\u001b[1m102/102\u001b[0m \u001b[32m━━━━━━━━━━━━━━━━━━━━\u001b[0m\u001b[37m\u001b[0m \u001b[1m0s\u001b[0m 2ms/step - accuracy: 0.7498 - loss: 0.8345\n",
      "\u001b[1m102/102\u001b[0m \u001b[32m━━━━━━━━━━━━━━━━━━━━\u001b[0m\u001b[37m\u001b[0m \u001b[1m0s\u001b[0m 2ms/step\n",
      "              precision    recall  f1-score   support\n",
      "\n",
      "           0       0.78      0.80      0.79      1830\n",
      "           1       0.73      0.71      0.72      1428\n",
      "\n",
      "    accuracy                           0.76      3258\n",
      "   macro avg       0.76      0.76      0.76      3258\n",
      "weighted avg       0.76      0.76      0.76      3258\n",
      "\n",
      "\n",
      "Training with parameters: {'activation': 'tanh', 'layers': 16, 'epochs': 10}\n",
      "\u001b[1m102/102\u001b[0m \u001b[32m━━━━━━━━━━━━━━━━━━━━\u001b[0m\u001b[37m\u001b[0m \u001b[1m0s\u001b[0m 3ms/step - accuracy: 0.7579 - loss: 0.7456\n",
      "\u001b[1m102/102\u001b[0m \u001b[32m━━━━━━━━━━━━━━━━━━━━\u001b[0m\u001b[37m\u001b[0m \u001b[1m0s\u001b[0m 3ms/step\n",
      "              precision    recall  f1-score   support\n",
      "\n",
      "           0       0.80      0.79      0.79      1830\n",
      "           1       0.74      0.74      0.74      1428\n",
      "\n",
      "    accuracy                           0.77      3258\n",
      "   macro avg       0.77      0.77      0.77      3258\n",
      "weighted avg       0.77      0.77      0.77      3258\n",
      "\n",
      "\n",
      "Training with parameters: {'activation': 'tanh', 'layers': 16, 'epochs': 20}\n",
      "\u001b[1m102/102\u001b[0m \u001b[32m━━━━━━━━━━━━━━━━━━━━\u001b[0m\u001b[37m\u001b[0m \u001b[1m0s\u001b[0m 2ms/step - accuracy: 0.7375 - loss: 0.8260\n",
      "\u001b[1m102/102\u001b[0m \u001b[32m━━━━━━━━━━━━━━━━━━━━\u001b[0m\u001b[37m\u001b[0m \u001b[1m0s\u001b[0m 2ms/step\n",
      "              precision    recall  f1-score   support\n",
      "\n",
      "           0       0.79      0.79      0.79      1830\n",
      "           1       0.73      0.72      0.73      1428\n",
      "\n",
      "    accuracy                           0.76      3258\n",
      "   macro avg       0.76      0.76      0.76      3258\n",
      "weighted avg       0.76      0.76      0.76      3258\n",
      "\n",
      "\n",
      "Training with parameters: {'activation': 'tanh', 'layers': 32, 'epochs': 10}\n",
      "\u001b[1m102/102\u001b[0m \u001b[32m━━━━━━━━━━━━━━━━━━━━\u001b[0m\u001b[37m\u001b[0m \u001b[1m0s\u001b[0m 2ms/step - accuracy: 0.7595 - loss: 0.7483\n",
      "\u001b[1m102/102\u001b[0m \u001b[32m━━━━━━━━━━━━━━━━━━━━\u001b[0m\u001b[37m\u001b[0m \u001b[1m0s\u001b[0m 3ms/step\n",
      "              precision    recall  f1-score   support\n",
      "\n",
      "           0       0.78      0.83      0.80      1830\n",
      "           1       0.76      0.70      0.73      1428\n",
      "\n",
      "    accuracy                           0.77      3258\n",
      "   macro avg       0.77      0.76      0.76      3258\n",
      "weighted avg       0.77      0.77      0.77      3258\n",
      "\n",
      "\n",
      "Training with parameters: {'activation': 'tanh', 'layers': 32, 'epochs': 20}\n",
      "\u001b[1m102/102\u001b[0m \u001b[32m━━━━━━━━━━━━━━━━━━━━\u001b[0m\u001b[37m\u001b[0m \u001b[1m0s\u001b[0m 3ms/step - accuracy: 0.7333 - loss: 0.8148\n",
      "\u001b[1m102/102\u001b[0m \u001b[32m━━━━━━━━━━━━━━━━━━━━\u001b[0m\u001b[37m\u001b[0m \u001b[1m0s\u001b[0m 2ms/step\n",
      "              precision    recall  f1-score   support\n",
      "\n",
      "           0       0.78      0.77      0.78      1830\n",
      "           1       0.71      0.72      0.71      1428\n",
      "\n",
      "    accuracy                           0.75      3258\n",
      "   macro avg       0.74      0.74      0.74      3258\n",
      "weighted avg       0.75      0.75      0.75      3258\n",
      "\n",
      "\n",
      "Training with parameters: {'activation': 'tanh', 'layers': 64, 'epochs': 10}\n",
      "\u001b[1m102/102\u001b[0m \u001b[32m━━━━━━━━━━━━━━━━━━━━\u001b[0m\u001b[37m\u001b[0m \u001b[1m0s\u001b[0m 3ms/step - accuracy: 0.7517 - loss: 0.7572\n",
      "\u001b[1m102/102\u001b[0m \u001b[32m━━━━━━━━━━━━━━━━━━━━\u001b[0m\u001b[37m\u001b[0m \u001b[1m0s\u001b[0m 1ms/step\n",
      "              precision    recall  f1-score   support\n",
      "\n",
      "           0       0.79      0.81      0.80      1830\n",
      "           1       0.75      0.72      0.73      1428\n",
      "\n",
      "    accuracy                           0.77      3258\n",
      "   macro avg       0.77      0.76      0.76      3258\n",
      "weighted avg       0.77      0.77      0.77      3258\n",
      "\n",
      "\n",
      "Training with parameters: {'activation': 'tanh', 'layers': 64, 'epochs': 20}\n",
      "\u001b[1m102/102\u001b[0m \u001b[32m━━━━━━━━━━━━━━━━━━━━\u001b[0m\u001b[37m\u001b[0m \u001b[1m0s\u001b[0m 3ms/step - accuracy: 0.7491 - loss: 0.7877\n",
      "\u001b[1m102/102\u001b[0m \u001b[32m━━━━━━━━━━━━━━━━━━━━\u001b[0m\u001b[37m\u001b[0m \u001b[1m0s\u001b[0m 2ms/step\n",
      "              precision    recall  f1-score   support\n",
      "\n",
      "           0       0.78      0.80      0.79      1830\n",
      "           1       0.74      0.71      0.72      1428\n",
      "\n",
      "    accuracy                           0.76      3258\n",
      "   macro avg       0.76      0.76      0.76      3258\n",
      "weighted avg       0.76      0.76      0.76      3258\n",
      "\n"
     ]
    }
   ],
   "source": [
    "param_grid = {\n",
    "    'activation': ['relu', 'tanh'],\n",
    "    'layers': [16, 32, 64],\n",
    "    'epochs': [10, 20]\n",
    "}\n",
    "\n",
    "grid_search(X_train, y_train, X_test, y_test, param_grid)"
   ]
  },
  {
   "cell_type": "markdown",
   "id": "ee4713eb-f408-4a99-b02c-1e505acfb402",
   "metadata": {},
   "source": [
    "The best performing model had parameters:\n",
    "\n",
    "{'activation': , 'layers': , 'epochs':}\n",
    "\n",
    "which achieved an accuracy of 78% and an f1-score of 0.81 for 0 and 0.73 for 1."
   ]
  },
  {
   "cell_type": "markdown",
   "id": "76de4bc4-5dda-4535-947e-a818d495e490",
   "metadata": {},
   "source": [
    "# Recurrent Neural Network (RNN)\n",
    "I will now build a recurrent neural network. For simplicity's sake, the best performing parameters from the simple dense model will be used."
   ]
  },
  {
   "cell_type": "code",
   "execution_count": 132,
   "id": "8e5576d8-357d-4f33-b901-9d61161dd5a1",
   "metadata": {},
   "outputs": [],
   "source": [
    "def rnn_model(input_dim, output_dim, rnn_units=64, activation='relu', optimizer='adam'):\n",
    "    model = Sequential([\n",
    "        Embedding(input_dim=input_dim, output_dim=output_dim),\n",
    "        SimpleRNN(rnn_units, activation='relu'),\n",
    "        Dense(1, activation='sigmoid')\n",
    "    ])\n",
    "\n",
    "    model.compile(loss='binary_crossentropy', optimizer=optimizer, metrics=['accuracy'])\n",
    "    return model"
   ]
  },
  {
   "cell_type": "code",
   "execution_count": 134,
   "id": "f0514468-160f-4f5c-8e7d-8df975a10aad",
   "metadata": {},
   "outputs": [
    {
     "data": {
      "text/plain": [
       "<keras.src.callbacks.history.History at 0x140c23310>"
      ]
     },
     "execution_count": 134,
     "metadata": {},
     "output_type": "execute_result"
    }
   ],
   "source": [
    "model = rnn_model(10000, 16, rnn_units=64)\n",
    "model.fit(X_train, y_train, validation_data=(X_test, y_test), epochs=10, batch_size=32, verbose=0)"
   ]
  },
  {
   "cell_type": "code",
   "execution_count": 136,
   "id": "fcc7c706-542c-4156-9fca-2980ec8a86d9",
   "metadata": {},
   "outputs": [
    {
     "name": "stdout",
     "output_type": "stream",
     "text": [
      "\u001b[1m102/102\u001b[0m \u001b[32m━━━━━━━━━━━━━━━━━━━━\u001b[0m\u001b[37m\u001b[0m \u001b[1m0s\u001b[0m 3ms/step - accuracy: 0.7603 - loss: 1.8040\n",
      "\u001b[1m102/102\u001b[0m \u001b[32m━━━━━━━━━━━━━━━━━━━━\u001b[0m\u001b[37m\u001b[0m \u001b[1m1s\u001b[0m 4ms/step\n",
      "              precision    recall  f1-score   support\n",
      "\n",
      "           0       0.77      0.84      0.80      1830\n",
      "           1       0.77      0.67      0.72      1428\n",
      "\n",
      "    accuracy                           0.77      3258\n",
      "   macro avg       0.77      0.76      0.76      3258\n",
      "weighted avg       0.77      0.77      0.77      3258\n",
      "\n"
     ]
    }
   ],
   "source": [
    "evaluate_model(model)"
   ]
  },
  {
   "cell_type": "code",
   "execution_count": null,
   "id": "dbfc8fd1-20b0-4c3a-adfb-969ff085afdd",
   "metadata": {},
   "outputs": [],
   "source": []
  }
 ],
 "metadata": {
  "kernelspec": {
   "display_name": "Python [conda env:base] *",
   "language": "python",
   "name": "conda-base-py"
  },
  "language_info": {
   "codemirror_mode": {
    "name": "ipython",
    "version": 3
   },
   "file_extension": ".py",
   "mimetype": "text/x-python",
   "name": "python",
   "nbconvert_exporter": "python",
   "pygments_lexer": "ipython3",
   "version": "3.11.8"
  }
 },
 "nbformat": 4,
 "nbformat_minor": 5
}
